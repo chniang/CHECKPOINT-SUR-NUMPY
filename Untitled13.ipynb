{
 "cells": [
  {
   "cell_type": "code",
   "execution_count": null,
   "id": "09724e40-32b0-413c-9c96-99ed4074db63",
   "metadata": {},
   "outputs": [
    {
     "name": "stdin",
     "output_type": "stream",
     "text": [
      "Entrez le nombre d'étudiants :  6\n",
      "Entrez le nombre de matières :  4\n",
      "Entrez la note de l'étudiant 1 pour la matière 1 :  2\n",
      "Entrez la note de l'étudiant 1 pour la matière 2 :  2\n",
      "Entrez la note de l'étudiant 1 pour la matière 3 :  2\n",
      "Entrez la note de l'étudiant 1 pour la matière 4 :  4\n",
      "Entrez la note de l'étudiant 2 pour la matière 1 :  5\n",
      "Entrez la note de l'étudiant 2 pour la matière 2 :  7\n",
      "Entrez la note de l'étudiant 2 pour la matière 3 :  8\n",
      "Entrez la note de l'étudiant 2 pour la matière 4 :  9\n",
      "Entrez la note de l'étudiant 3 pour la matière 1 :  2\n",
      "Entrez la note de l'étudiant 3 pour la matière 2 :  2\n"
     ]
    }
   ],
   "source": [
    "import numpy as np\n",
    "\n",
    "# Demander à l'utilisateur de saisir le nombre d'étudiants et le nombre de matières\n",
    "nombre_etudiants = int(input(\"Entrez le nombre d'étudiants : \"))\n",
    "nombre_matieres = int(input(\"Entrez le nombre de matières : \"))\n",
    "\n",
    "# Créer un tableau NumPy pour stocker les notes\n",
    "notes = np.zeros((nombre_etudiants, nombre_matieres))\n",
    "\n",
    "# Demander à l'utilisateur de saisir les notes de chaque étudiant dans chaque matière\n",
    "for i in range(nombre_etudiants):\n",
    "    for j in range(nombre_matieres):\n",
    "        notes[i, j] = float(input(f\"Entrez la note de l'étudiant {i+1} pour la matière {j+1} : \"))\n",
    "\n",
    "# Calculer les notes totales pour chaque étudiant\n",
    "notes_totales = np.sum(notes, axis=1)\n",
    "\n",
    "# Calculer le pourcentage pour chaque étudiant\n",
    "pourcentages = (notes_totales / (nombre_matieres * 100)) * 100\n",
    "\n",
    "# Calculer la mention pour chaque étudiant\n",
    "mentions = []\n",
    "for pourcentage in pourcentages:\n",
    "    if pourcentage >= 90:\n",
    "        mentions.append(\"A+\")\n",
    "    elif pourcentage >= 80:\n",
    "        mentions.append(\"A\")\n",
    "    elif pourcentage >= 70:\n",
    "        mentions.append(\"B+\")\n",
    "    elif pourcentage >= 60:\n",
    "        mentions.append(\"B\")\n",
    "    elif pourcentage >= 50:\n",
    "        mentions.append(\"C\")\n",
    "    else:\n",
    "        mentions.append(\"F\")\n",
    "\n",
    "# Afficher les résultats\n",
    "print(\"\\nRésultats :\")\n",
    "print(\"Étudiant\\tNotes Totales\\tPourcentage\\tMention\")\n",
    "for i in range(nombre_etudiants):\n",
    "    print(f\"{i+1}\\t\\t{notes_totales[i]:.2f}\\t\\t{pourcentages[i]:.2f}%\\t\\t{mentions[i]}\")\n"
   ]
  },
  {
   "cell_type": "code",
   "execution_count": null,
   "id": "298e1256-c78c-410f-a099-0a4f74bf22b3",
   "metadata": {},
   "outputs": [],
   "source": []
  }
 ],
 "metadata": {
  "kernelspec": {
   "display_name": "Python 3 (ipykernel)",
   "language": "python",
   "name": "python3"
  },
  "language_info": {
   "codemirror_mode": {
    "name": "ipython",
    "version": 3
   },
   "file_extension": ".py",
   "mimetype": "text/x-python",
   "name": "python",
   "nbconvert_exporter": "python",
   "pygments_lexer": "ipython3",
   "version": "3.12.4"
  }
 },
 "nbformat": 4,
 "nbformat_minor": 5
}
